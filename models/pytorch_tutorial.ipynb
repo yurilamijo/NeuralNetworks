{
 "cells": [
  {
   "cell_type": "code",
   "execution_count": 1,
   "metadata": {},
   "outputs": [],
   "source": [
    "import torch"
   ]
  },
  {
   "cell_type": "code",
   "execution_count": 16,
   "metadata": {},
   "outputs": [
    {
     "name": "stdout",
     "output_type": "stream",
     "text": [
      "Empty: tensor([[0.0000e+00, 0.0000e+00, 4.2700e-08],\n",
      "        [4.1027e-08, 6.9001e-07, 4.1727e+21]])\n",
      "Rand: tensor([[0.0018, 0.6604, 0.8940],\n",
      "        [0.8760, 0.3384, 0.5832]], dtype=torch.float64)\n",
      "Zeros: tensor([[0., 0., 0.],\n",
      "        [0., 0., 0.]])\n",
      "Ones: tensor([[1, 1, 1],\n",
      "        [1, 1, 1]], dtype=torch.int32)\n"
     ]
    }
   ],
   "source": [
    "# Create empty torch\n",
    "x = torch.empty(2, 3)\n",
    "print(f\"Empty: {x}\")\n",
    "\n",
    "# Create torch with random doubles\n",
    "x = torch.rand(2, 3, dtype=torch.double)\n",
    "print(f\"Rand: {x}\")\n",
    "\n",
    "# Create torch woth only zeros in it\n",
    "x = torch.zeros(2, 3)\n",
    "print(f\"Zeros: {x}\")\n",
    "\n",
    "# Create torch with only ones\n",
    "x = torch.ones(2, 3, dtype=torch.int)\n",
    "print(f\"Ones: {x}\")"
   ]
  }
 ],
 "metadata": {
  "interpreter": {
   "hash": "5d433e2eeacfaf9c6777051e9a6e8f217b0a42d6ada65163480106221da8bdb7"
  },
  "kernelspec": {
   "display_name": "Python 3.8.8 64-bit ('base': conda)",
   "language": "python",
   "name": "python3"
  },
  "language_info": {
   "codemirror_mode": {
    "name": "ipython",
    "version": 3
   },
   "file_extension": ".py",
   "mimetype": "text/x-python",
   "name": "python",
   "nbconvert_exporter": "python",
   "pygments_lexer": "ipython3",
   "version": "3.8.12"
  },
  "orig_nbformat": 4
 },
 "nbformat": 4,
 "nbformat_minor": 2
}
