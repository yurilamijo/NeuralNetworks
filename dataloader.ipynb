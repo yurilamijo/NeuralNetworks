{
 "cells": [
  {
   "cell_type": "code",
   "execution_count": 14,
   "metadata": {},
   "outputs": [],
   "source": [
    "import torch\n",
    "import torchvision\n",
    "from torch.utils.data import Dataset, DataLoader\n",
    "import numpy as np\n",
    "import math"
   ]
  },
  {
   "cell_type": "code",
   "execution_count": 15,
   "metadata": {},
   "outputs": [],
   "source": [
    "class WineDataset(Dataset):\n",
    "    def __init__(self) -> None:\n",
    "        data = np.loadtxt('wine.csv', delimiter=\",\", dtype=np.float32, skiprows=1)\n",
    "        self.x = torch.from_numpy(data[:, 1:])\n",
    "        self.y = torch.from_numpy(data[:, [0]])\n",
    "        self.n_samples = data.shape[0]\n",
    "\n",
    "    def __getitem__(self, index):\n",
    "        return self.x[index], self.y[index]\n",
    "\n",
    "    def __len__(self):\n",
    "        return self.n_samples"
   ]
  },
  {
   "cell_type": "code",
   "execution_count": 16,
   "metadata": {},
   "outputs": [],
   "source": [
    "dataset = WineDataset()\n",
    "dataloader = DataLoader(dataset, batch_size=4, shuffle=True)"
   ]
  },
  {
   "cell_type": "code",
   "execution_count": 21,
   "metadata": {},
   "outputs": [
    {
     "name": "stdout",
     "output_type": "stream",
     "text": [
      "epoch: 1/2, step: 5/45, inputs: torch.Size([4, 13])\n",
      "epoch: 1/2, step: 10/45, inputs: torch.Size([4, 13])\n",
      "epoch: 1/2, step: 15/45, inputs: torch.Size([4, 13])\n",
      "epoch: 1/2, step: 20/45, inputs: torch.Size([4, 13])\n",
      "epoch: 1/2, step: 25/45, inputs: torch.Size([4, 13])\n",
      "epoch: 1/2, step: 30/45, inputs: torch.Size([4, 13])\n",
      "epoch: 1/2, step: 35/45, inputs: torch.Size([4, 13])\n",
      "epoch: 1/2, step: 40/45, inputs: torch.Size([4, 13])\n",
      "epoch: 1/2, step: 45/45, inputs: torch.Size([2, 13])\n",
      "epoch: 2/2, step: 5/45, inputs: torch.Size([4, 13])\n",
      "epoch: 2/2, step: 10/45, inputs: torch.Size([4, 13])\n",
      "epoch: 2/2, step: 15/45, inputs: torch.Size([4, 13])\n",
      "epoch: 2/2, step: 20/45, inputs: torch.Size([4, 13])\n",
      "epoch: 2/2, step: 25/45, inputs: torch.Size([4, 13])\n",
      "epoch: 2/2, step: 30/45, inputs: torch.Size([4, 13])\n",
      "epoch: 2/2, step: 35/45, inputs: torch.Size([4, 13])\n",
      "epoch: 2/2, step: 40/45, inputs: torch.Size([4, 13])\n",
      "epoch: 2/2, step: 45/45, inputs: torch.Size([2, 13])\n"
     ]
    }
   ],
   "source": [
    "# training loop\n",
    "n_epochs = 2\n",
    "n_iter = math.ceil(dataset.__len__()/4)\n",
    "\n",
    "for epoch in range(n_epochs):\n",
    "    for i, (inputs, label) in enumerate(dataloader):\n",
    "        if (i+1) % 5 == 0:\n",
    "            print(f\"epoch: {epoch+1}/{n_epochs}, step: {i+1}/{n_iter}, inputs: {inputs.shape}\")"
   ]
  },
  {
   "cell_type": "markdown",
   "metadata": {},
   "source": []
  },
  {
   "cell_type": "code",
   "execution_count": null,
   "metadata": {},
   "outputs": [],
   "source": []
  }
 ],
 "metadata": {
  "interpreter": {
   "hash": "5d433e2eeacfaf9c6777051e9a6e8f217b0a42d6ada65163480106221da8bdb7"
  },
  "kernelspec": {
   "display_name": "Python 3.8.8 64-bit ('base': conda)",
   "language": "python",
   "name": "python3"
  },
  "language_info": {
   "codemirror_mode": {
    "name": "ipython",
    "version": 3
   },
   "file_extension": ".py",
   "mimetype": "text/x-python",
   "name": "python",
   "nbconvert_exporter": "python",
   "pygments_lexer": "ipython3",
   "version": "3.8.8"
  },
  "orig_nbformat": 4
 },
 "nbformat": 4,
 "nbformat_minor": 2
}
