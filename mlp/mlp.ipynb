{
 "cells": [
  {
   "cell_type": "markdown",
   "metadata": {},
   "source": [
    "# Multi Layer Peceptron\n",
    "No use of `pytorch-lightning`\n",
    "\n",
    "Creating a Multi Layer Peceptron (MLP) also know as a feed forward network"
   ]
  },
  {
   "cell_type": "code",
   "execution_count": 54,
   "metadata": {},
   "outputs": [],
   "source": [
    "import torch\n",
    "import torch.nn as nn\n",
    "import torchvision\n",
    "import torchvision.transforms as transforms\n",
    "import matplotlib.pyplot as plt"
   ]
  },
  {
   "cell_type": "markdown",
   "metadata": {},
   "source": [
    "Use GPU cuda if available, if not the cpu will be used"
   ]
  },
  {
   "cell_type": "code",
   "execution_count": 55,
   "metadata": {},
   "outputs": [],
   "source": [
    "device = torch.device('cuda' if torch.cuda.is_available() else 'cpu')"
   ]
  },
  {
   "cell_type": "markdown",
   "metadata": {},
   "source": [
    "## Create train and test datasets\n",
    "Creating train and test datasets of the MNIST data from pytorch. This data gets transformed to pytoch Tensors"
   ]
  },
  {
   "cell_type": "code",
   "execution_count": 56,
   "metadata": {},
   "outputs": [],
   "source": [
    "train_dataset = torchvision.datasets.MNIST(\n",
    "    root='/MNIST/data', \n",
    "    train=True, \n",
    "    transform=transforms.ToTensor(),\n",
    "    download=True)\n",
    "\n",
    "test_dataset = torchvision.datasets.MNIST(\n",
    "    root='/MNIST/data', \n",
    "    train=False, \n",
    "    transform=transforms.ToTensor(),\n",
    "    download=True)"
   ]
  },
  {
   "cell_type": "markdown",
   "metadata": {},
   "source": [
    "## Create train and test dataloaders\n",
    "Creating train and test dataloaders"
   ]
  },
  {
   "cell_type": "code",
   "execution_count": 57,
   "metadata": {},
   "outputs": [],
   "source": [
    "batch_size = 100\n",
    "\n",
    "# Create training dataloader\n",
    "train_dl = torch.utils.data.DataLoader(dataset=train_dataset, batch_size=batch_size, shuffle=True)\n",
    "\n",
    "# Create test dataloader\n",
    "test_dl = torch.utils.data.DataLoader(dataset=test_dataset, batch_size=batch_size, shuffle=False)"
   ]
  },
  {
   "cell_type": "markdown",
   "metadata": {},
   "source": [
    "Printed out the amount of samples that a batch will return, with the amount of channels, width and height of the image."
   ]
  },
  {
   "cell_type": "code",
   "execution_count": 58,
   "metadata": {},
   "outputs": [
    {
     "name": "stdout",
     "output_type": "stream",
     "text": [
      "torch.Size([100, 1, 28, 28]) torch.Size([100])\n"
     ]
    },
    {
     "data": {
      "image/png": "[encoded data removed]",
      "text/plain": [
       "<Figure size 432x288 with 6 Axes>"
      ]
     },
     "metadata": {
      "needs_background": "light"
     },
     "output_type": "display_data"
    }
   ],
   "source": [
    "examples_iter = iter(train_dl)\n",
    "examples, examples_labels = examples_iter.next()\n",
    "\n",
    "print(examples.shape, examples_labels.shape)\n",
    "\n",
    "# Plot examples of the data\n",
    "for i in range(6):\n",
    "    plt.subplot(2, 3, i+1)\n",
    "    plt.imshow(examples[i][0], cmap='gray')\n",
    "plt.show()"
   ]
  },
  {
   "cell_type": "markdown",
   "metadata": {},
   "source": [
    "## Create model"
   ]
  },
  {
   "cell_type": "code",
   "execution_count": 59,
   "metadata": {},
   "outputs": [],
   "source": [
    "class MultiLayerPeceptron(nn.Module):\n",
    "    def __init__(self) -> None:\n",
    "        super(MultiLayerPeceptron, self).__init__()\n",
    "        # Create Linear layer\n",
    "        self.l1 = nn.Linear(28 * 28, 512)\n",
    "        # Set activation function\n",
    "        self.relu = nn.ReLU()\n",
    "        # Set ouput layer\n",
    "        self.l2 = nn.Linear(512, 10)\n",
    "    \n",
    "    def forward(self, x):\n",
    "        # Reshape images because shape is [100, 1, 28, 28] and it needs to become [100, 784] the same as the input size of the model\n",
    "        x = x.reshape(-1, 28*28)\n",
    "        out = self.l1(x)\n",
    "        out = self.relu(out)\n",
    "        out = self.l2(out)\n",
    "\n",
    "        return out\n",
    "\n",
    "model = MultiLayerPeceptron()"
   ]
  },
  {
   "cell_type": "markdown",
   "metadata": {},
   "source": [
    "## Set loss function"
   ]
  },
  {
   "cell_type": "code",
   "execution_count": 60,
   "metadata": {},
   "outputs": [],
   "source": [
    "citerion = nn.CrossEntropyLoss()"
   ]
  },
  {
   "cell_type": "markdown",
   "metadata": {},
   "source": [
    "## Set optimizer"
   ]
  },
  {
   "cell_type": "code",
   "execution_count": 61,
   "metadata": {},
   "outputs": [],
   "source": [
    "optimizer = torch.optim.Adam(model.parameters(), lr=0.001)"
   ]
  },
  {
   "cell_type": "markdown",
   "metadata": {},
   "source": [
    "## Training the model\n",
    "Training the model with the train dataloader"
   ]
  },
  {
   "cell_type": "code",
   "execution_count": 62,
   "metadata": {},
   "outputs": [
    {
     "name": "stdout",
     "output_type": "stream",
     "text": [
      "epoch: 1/3, step: 100/600, loss: 0.2830\n",
      "epoch: 1/3, step: 200/600, loss: 0.2523\n",
      "epoch: 1/3, step: 300/600, loss: 0.3485\n",
      "epoch: 1/3, step: 400/600, loss: 0.1565\n",
      "epoch: 1/3, step: 500/600, loss: 0.2543\n",
      "epoch: 1/3, step: 600/600, loss: 0.1112\n",
      "epoch: 2/3, step: 100/600, loss: 0.1123\n",
      "epoch: 2/3, step: 200/600, loss: 0.1361\n",
      "epoch: 2/3, step: 300/600, loss: 0.0970\n",
      "epoch: 2/3, step: 400/600, loss: 0.0874\n",
      "epoch: 2/3, step: 500/600, loss: 0.1109\n",
      "epoch: 2/3, step: 600/600, loss: 0.1011\n",
      "epoch: 3/3, step: 100/600, loss: 0.0709\n",
      "epoch: 3/3, step: 200/600, loss: 0.0409\n",
      "epoch: 3/3, step: 300/600, loss: 0.0728\n",
      "epoch: 3/3, step: 400/600, loss: 0.0414\n",
      "epoch: 3/3, step: 500/600, loss: 0.1507\n",
      "epoch: 3/3, step: 600/600, loss: 0.0709\n"
     ]
    }
   ],
   "source": [
    "n_epochs = 3\n",
    "n_total_steps = len(train_dl)\n",
    "\n",
    "for epoch in range(n_epochs):\n",
    "    for i, (images, labels) in enumerate(train_dl):\n",
    "        # Reshape images because shape is [100, 1, 28, 28] and it needs to become [100, 784] the same as the input size of the model\n",
    "        # images = images.reshape(-1, 28*28)\n",
    "\n",
    "        # Forward\n",
    "        output = model(images)\n",
    "\n",
    "        # Loss\n",
    "        loss = citerion(output, labels)\n",
    "\n",
    "        # Backward\n",
    "        optimizer.zero_grad()\n",
    "        loss.backward()\n",
    "        # Update the parameters\n",
    "        optimizer.step()\n",
    "\n",
    "        if (i+1) % 100 == 0:\n",
    "            print(f\"epoch: {epoch+1}/{n_epochs}, step: {i+1}/{n_total_steps}, loss: {loss.item():.4f}\")"
   ]
  },
  {
   "cell_type": "markdown",
   "metadata": {},
   "source": [
    "## Test model\n",
    "Get the accuracy of the model with the test dataloader"
   ]
  },
  {
   "cell_type": "code",
   "execution_count": 63,
   "metadata": {},
   "outputs": [
    {
     "name": "stdout",
     "output_type": "stream",
     "text": [
      "accuracy: 97.6\n"
     ]
    }
   ],
   "source": [
    "with torch.no_grad():\n",
    "    n_correct = 0\n",
    "    n_samples = 0\n",
    "    \n",
    "    for images, labels in test_dl:\n",
    "        output = model(images)\n",
    "\n",
    "        # Return value and index \n",
    "        _, predictions = torch.max(output, 1)\n",
    "\n",
    "        n_samples += labels.shape[0]\n",
    "        n_correct += (predictions == labels).sum().item()\n",
    "    \n",
    "    acc = 100 * n_correct / n_samples\n",
    "    print(f\"accuracy: {acc}\")\n"
   ]
  },
  {
   "cell_type": "code",
   "execution_count": null,
   "metadata": {},
   "outputs": [],
   "source": []
  }
 ],
 "metadata": {
  "interpreter": {
   "hash": "5d433e2eeacfaf9c6777051e9a6e8f217b0a42d6ada65163480106221da8bdb7"
  },
  "kernelspec": {
   "display_name": "Python 3.8.8 64-bit ('base': conda)",
   "language": "python",
   "name": "python3"
  },
  "language_info": {
   "codemirror_mode": {
    "name": "ipython",
    "version": 3
   },
   "file_extension": ".py",
   "mimetype": "text/x-python",
   "name": "python",
   "nbconvert_exporter": "python",
   "pygments_lexer": "ipython3",
   "version": "3.8.12"
  },
  "orig_nbformat": 4
 },
 "nbformat": 4,
 "nbformat_minor": 2
}
