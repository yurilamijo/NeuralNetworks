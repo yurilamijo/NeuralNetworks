{
 "cells": [
  {
   "cell_type": "markdown",
   "metadata": {},
   "source": [
    "# CNN"
   ]
  },
  {
   "cell_type": "code",
   "execution_count": 20,
   "metadata": {},
   "outputs": [],
   "source": [
    "import torch\n",
    "import torch.nn as nn\n",
    "import torch.nn.functional as F\n",
    "import torchvision\n",
    "import torchvision.transforms as transforms\n",
    "import torchmetrics\n",
    "import pytorch_lightning as pl\n",
    "import matplotlib.pyplot as plt\n",
    "import numpy as np\n",
    "from torch.utils.tensorboard import SummaryWriter"
   ]
  },
  {
   "cell_type": "markdown",
   "metadata": {},
   "source": [
    "Hyper-parameters"
   ]
  },
  {
   "cell_type": "code",
   "execution_count": 21,
   "metadata": {},
   "outputs": [],
   "source": [
    "batch_size = 32\n",
    "learning_rate = 0.001"
   ]
  },
  {
   "cell_type": "code",
   "execution_count": 22,
   "metadata": {},
   "outputs": [],
   "source": [
    "transform = transforms.Compose(\n",
    "    [transforms.ToTensor(),\n",
    "     transforms.Normalize((0.5, 0.5, 0.5), (0.5, 0.5, 0.5))])"
   ]
  },
  {
   "cell_type": "markdown",
   "metadata": {},
   "source": [
    "## Set train and test datasets"
   ]
  },
  {
   "cell_type": "code",
   "execution_count": 23,
   "metadata": {},
   "outputs": [
    {
     "name": "stdout",
     "output_type": "stream",
     "text": [
      "Files already downloaded and verified\n",
      "Files already downloaded and verified\n"
     ]
    }
   ],
   "source": [
    "train_dataset = torchvision.datasets.CIFAR10(\n",
    "    root='../CIFAR10/data',\n",
    "    train=True,\n",
    "    download=True,\n",
    "    transform=transform\n",
    ")\n",
    "\n",
    "test_dataset = torchvision.datasets.CIFAR10(\n",
    "    root='../CIFAR10/data',\n",
    "    train=False,\n",
    "    download=True,\n",
    "    transform=transform\n",
    ")"
   ]
  },
  {
   "cell_type": "markdown",
   "metadata": {},
   "source": [
    "## Dataloaders"
   ]
  },
  {
   "cell_type": "code",
   "execution_count": 24,
   "metadata": {},
   "outputs": [],
   "source": [
    "train_dl = torch.utils.data.DataLoader(train_dataset, batch_size=batch_size, shuffle=True, num_workers=2)\n",
    "test_dl = torch.utils.data.DataLoader(test_dataset, batch_size=batch_size, shuffle=False, num_workers=2)"
   ]
  },
  {
   "cell_type": "code",
   "execution_count": 25,
   "metadata": {},
   "outputs": [],
   "source": [
    "classes = ('plane', 'car', 'brid', 'cat', 'deer', 'dog', 'frog', 'horse', 'ship', 'truck')"
   ]
  },
  {
   "cell_type": "markdown",
   "metadata": {},
   "source": [
    "## Model"
   ]
  },
  {
   "cell_type": "code",
   "execution_count": 26,
   "metadata": {},
   "outputs": [],
   "source": [
    "# Input size is 3 because we will send 3 types of color channels\n",
    "input_size = 3\n",
    "output_size = 6\n",
    "kernel_size = 5\n",
    "\n",
    "class ConvNet(pl.LightningModule):\n",
    "    def __init__(self, learning_rate):\n",
    "        super().__init__()\n",
    "        self.learning_rate = learning_rate\n",
    "        self.configure_metrics()\n",
    "\n",
    "        # Feature learning\n",
    "        self.conv1 = nn.Conv2d(input_size, output_size, kernel_size)\n",
    "        self.pool = nn.MaxPool2d(2, 2)\n",
    "        self.conv2 = nn.Conv2d(output_size, 16, kernel_size)\n",
    "        \n",
    "        # Classification\n",
    "        self.fc1 = nn.Linear(16*5*5, 120)\n",
    "        self.fc2 = nn.Linear(120, 84)\n",
    "        self.fc3 = nn.Linear(84, 10)\n",
    "    \n",
    "    def forward(self, x):\n",
    "        x = self.pool(F.relu(self.conv1(x)))\n",
    "        x = self.pool(F.relu(self.conv2(x)))\n",
    "        x = x.reshape(-1, 16*5*5)\n",
    "        x = F.relu(self.fc1(x))\n",
    "        x = F.relu(self.fc2(x))\n",
    "        x = self.fc3(x)\n",
    "        return x\n",
    "    \n",
    "    # def train_dataloader(self):\n",
    "    #     return torch.utils.data.DataLoader(train_dataset, batch_size=batch_size, shuffle=True, num_workers=2)\n",
    "\n",
    "    # def val_dataloader(self):\n",
    "    #     return torch.utils.data.DataLoader(test_dataset, batch_size=batch_size, shuffle=False, num_workers=2)\n",
    "    \n",
    "    def configure_metrics(self):\n",
    "        self.train_acc = torchmetrics.Accuracy()\n",
    "        self.valid_acc = torchmetrics.Accuracy()\n",
    "        self.valid_precision = torchmetrics.Precision(num_classes=10)\n",
    "        self.valid_recall = torchmetrics.Recall(num_classes=10)\n",
    "    \n",
    "    def configure_optimizers(self):\n",
    "        optimizer = torch.optim.Adam(self.parameters(), lr=self.learning_rate)\n",
    "        return optimizer\n",
    "\n",
    "    def training_step(self, train_batch, batch_idx):\n",
    "        x, y = train_batch\n",
    "        output = self(x)\n",
    "        loss = nn.CrossEntropyLoss()(output, y)\n",
    "        self.train_acc(output, y)\n",
    "        self.log('train_acc', self.train_acc, on_step=False, on_epoch=True, logger=True)\n",
    "        self.log('train_loss', loss, on_step=False, on_epoch=True, logger=True)\n",
    "        \n",
    "        return loss    \n",
    "\n",
    "    def validation_step(self, val_batch, batch_idx):\n",
    "        x, y = val_batch\n",
    "        output = self(x)\n",
    "        loss = nn.CrossEntropyLoss()(output, y)\n",
    "        \n",
    "        self.valid_precision(output, y)\n",
    "        self.valid_recall(output, y)\n",
    "        self.valid_acc(output, y)\n",
    "        self.log(\"precision\", self.valid_precision, on_step=False, on_epoch=True, logger=True)\n",
    "        self.log(\"recall\", self.valid_recall, on_step=False, on_epoch=True, logger=True)\n",
    "        self.log('val_acc', self.valid_acc, on_step=False, on_epoch=True, logger=True)\n",
    "        self.log('val_loss', loss, on_step=False, on_epoch=True, logger=True)\n",
    "\n",
    "model = ConvNet(learning_rate)"
   ]
  },
  {
   "cell_type": "code",
   "execution_count": 27,
   "metadata": {},
   "outputs": [],
   "source": [
    "from pytorch_lightning.callbacks import Callback\n",
    "\n",
    "class MyCallback(Callback):\n",
    "    def on_fit_start(self, trainer, pl_module):\n",
    "        \"\"\"Callback function that gets executed before the fit starts\n",
    "\n",
    "        Parameters\n",
    "        ----------\n",
    "        trainer : pl.Trainer\n",
    "            The trainer of the CNN module (pl_module)\n",
    "        pl_module : pl.LightningModule\n",
    "            The model we want to use to retrieve information\n",
    "        \"\"\"\n",
    "        print(\"Starting to fit trainer!\")\n",
    "        \n",
    "        self.writer = pl_module.logger.experiment\n",
    "        pl_module.fc1.register_forward_hook(self.activation_hook)\n",
    "        pl_module.fc2.register_forward_hook(self.activation_hook)\n",
    "        pl_module.fc3.register_forward_hook(self.activation_hook)\n",
    "\n",
    "    def activation_hook(self, inst, inp, out):\n",
    "        \"\"\"Run activation hook\n",
    "\n",
    "        Parameters\n",
    "        ----------\n",
    "        inst : torch.nn.Module\n",
    "            The layer we want to attach the hook to.\n",
    "        inp : torch.Tensor\n",
    "            The input to the `forward` method.\n",
    "        out : torch.Tensor\n",
    "            The output of the `forward` method.\n",
    "        \"\"\"\n",
    "        # Create histogram of layer weights\n",
    "        self.writer.add_histogram(repr(inst), out)\n",
    "\n",
    "        img_grid = torchvision.utils.make_grid(inp[0])\n",
    "        self.writer.add_image('Forward Input images', img_grid)\n",
    "\n",
    "        img_grid = torchvision.utils.make_grid(out)\n",
    "        self.writer.add_image('Forward Output images', img_grid)"
   ]
  },
  {
   "cell_type": "markdown",
   "metadata": {},
   "source": [
    "## Find best learning rate"
   ]
  },
  {
   "cell_type": "code",
   "execution_count": 28,
   "metadata": {},
   "outputs": [],
   "source": [
    "# trainer = pl.Trainer(auto_lr_find=True)\n",
    "# lr_finder = trainer.tuner.lr_find(model)\n",
    "# lr_finder.results\n",
    "# fig = lr_finder.plot(suggest=True)\n",
    "# fig.show()\n",
    "# new_lr = lr_finder.suggestion()\n",
    "# model.hparams.lr = new_lr\n",
    "# print(new_lr)"
   ]
  },
  {
   "cell_type": "markdown",
   "metadata": {},
   "source": [
    "## Train and validate"
   ]
  },
  {
   "cell_type": "code",
   "execution_count": 29,
   "metadata": {},
   "outputs": [],
   "source": [
    "# trainer = pl.Trainer(max_epochs=2, callbacks=[MyCallback()])\n",
    "# trainer.fit(model, train_dl, test_dl)"
   ]
  },
  {
   "cell_type": "code",
   "execution_count": 30,
   "metadata": {},
   "outputs": [
    {
     "name": "stderr",
     "output_type": "stream",
     "text": [
      "UsageError: Line magic function `%tensorboard` not found.\n"
     ]
    }
   ],
   "source": [
    "%tensorboard"
   ]
  },
  {
   "cell_type": "markdown",
   "metadata": {},
   "source": [
    "## Feature mapping\n",
    "https://debuggercafe.com/visualizing-filters-and-feature-maps-in-convolutional-neural-networks-using-pytorch/"
   ]
  },
  {
   "cell_type": "code",
   "execution_count": 31,
   "metadata": {},
   "outputs": [
    {
     "name": "stdout",
     "output_type": "stream",
     "text": [
      "ConvNet(\n",
      "  (train_acc): Accuracy()\n",
      "  (valid_acc): Accuracy()\n",
      "  (valid_precision): Precision()\n",
      "  (valid_recall): Recall()\n",
      "  (conv1): Conv2d(3, 6, kernel_size=(5, 5), stride=(1, 1))\n",
      "  (pool): MaxPool2d(kernel_size=2, stride=2, padding=0, dilation=1, ceil_mode=False)\n",
      "  (conv2): Conv2d(6, 16, kernel_size=(5, 5), stride=(1, 1))\n",
      "  (fc1): Linear(in_features=400, out_features=120, bias=True)\n",
      "  (fc2): Linear(in_features=120, out_features=84, bias=True)\n",
      "  (fc3): Linear(in_features=84, out_features=10, bias=True)\n",
      ")\n"
     ]
    }
   ],
   "source": [
    "print(model)\n",
    "\n",
    "# Save the conv layers weights\n",
    "model_weights = []\n",
    "# Save the conv layers\n",
    "conv_layers = []\n",
    "\n",
    "# Get children of model\n",
    "model_children = list(model.children())"
   ]
  },
  {
   "cell_type": "code",
   "execution_count": 32,
   "metadata": {},
   "outputs": [
    {
     "name": "stdout",
     "output_type": "stream",
     "text": [
      "Total convolutional layers: 2\n"
     ]
    }
   ],
   "source": [
    "counter = 0\n",
    "\n",
    "for i in range(len(model_children)):\n",
    "    if type(model_children[i]) == nn.Conv2d:\n",
    "        counter += 1\n",
    "        model_weights.append(model_children[i].weight)\n",
    "        conv_layers.append(model_children[i])\n",
    "    elif type(model_children[i]) == nn.Sequential:\n",
    "        for j in range(len(model_children[i])):\n",
    "            for child in model_children[i][j].children():\n",
    "                if type(child) == nn.Conv2d:\n",
    "                    counter += 1\n",
    "                    model_weights.append(child.weight)\n",
    "                    conv_layers.append(child)\n",
    "print(f\"Total convolutional layers: {counter}\")"
   ]
  },
  {
   "cell_type": "code",
   "execution_count": 33,
   "metadata": {},
   "outputs": [
    {
     "name": "stdout",
     "output_type": "stream",
     "text": [
      "CONV: Conv2d(3, 6, kernel_size=(5, 5), stride=(1, 1)) =====> WEIGHT SHAPE: torch.Size([6, 3, 5, 5])\n",
      "CONV: Conv2d(6, 16, kernel_size=(5, 5), stride=(1, 1)) =====> WEIGHT SHAPE: torch.Size([16, 6, 5, 5])\n"
     ]
    }
   ],
   "source": [
    "for weight, conv in zip(model_weights, conv_layers):\n",
    "    print(f\"CONV: {conv} =====> WEIGHT SHAPE: {weight.shape}\")"
   ]
  },
  {
   "cell_type": "markdown",
   "metadata": {},
   "source": [
    "## Visualizing Convolutional Layer Filters"
   ]
  },
  {
   "cell_type": "code",
   "execution_count": 34,
   "metadata": {},
   "outputs": [
    {
     "data": {
      "image/png": "[encoded data removed]",
      "text/plain": [
       "<Figure size 1080x864 with 6 Axes>"
      ]
     },
     "metadata": {
      "needs_background": "light"
     },
     "output_type": "display_data"
    }
   ],
   "source": [
    "plt.figure(figsize=(15,12))\n",
    "for i, filter in enumerate(model_weights[0]):\n",
    "    plt.subplot(6, 6, i+1)\n",
    "    plt.imshow(filter[0, :, :].detach(), cmap='gray')\n",
    "    plt.axis('off')\n",
    "    plt.savefig('./outputs/filter.png')\n",
    "plt.show()"
   ]
  },
  {
   "cell_type": "markdown",
   "metadata": {},
   "source": [
    "## Reading the Image and Defining the Transforms"
   ]
  },
  {
   "cell_type": "code",
   "execution_count": 35,
   "metadata": {},
   "outputs": [],
   "source": [
    "# Get images from dataloader\n",
    "images, labels = iter(train_dl).next()"
   ]
  },
  {
   "cell_type": "code",
   "execution_count": 36,
   "metadata": {},
   "outputs": [
    {
     "name": "stdout",
     "output_type": "stream",
     "text": [
      "<class 'numpy.ndarray'>\n",
      "(32, 32)\n"
     ]
    }
   ],
   "source": [
    "# Get single image from dataloader\n",
    "image = images[5, :, :, :]\n",
    "# Convert to numpy array\n",
    "img = image.mean(dim=0)\n",
    "# img = img / 2 + 0.5\n",
    "img = img.numpy()\n",
    "print(type(img))\n",
    "print(img.shape)"
   ]
  },
  {
   "cell_type": "code",
   "execution_count": 37,
   "metadata": {},
   "outputs": [
    {
     "name": "stderr",
     "output_type": "stream",
     "text": [
      "Clipping input data to the valid range for imshow with RGB data ([0..1] for floats or [0..255] for integers).\n"
     ]
    },
    {
     "data": {
      "image/png": "[encoded data removed]",
      "text/plain": [
       "<Figure size 432x288 with 1 Axes>"
      ]
     },
     "metadata": {
      "needs_background": "light"
     },
     "output_type": "display_data"
    },
    {
     "name": "stdout",
     "output_type": "stream",
     "text": [
      "<class 'torch.Tensor'>\n",
      "torch.Size([3, 32, 32])\n",
      "torch.Size([1, 3, 32, 32])\n"
     ]
    }
   ],
   "source": [
    "import cv2 as cv\n",
    "\n",
    "img = cv.cvtColor(img, cv.COLOR_BGR2RGB)\n",
    "plt.imshow(img)\n",
    "plt.show()\n",
    "\n",
    "transform = transforms.Compose([\n",
    "    transforms.ToPILImage(),\n",
    "    transforms.Resize((512, 512)),\n",
    "    transforms.ToTensor()\n",
    "])\n",
    "\n",
    "# img = transform(img)\n",
    "print(type(image))\n",
    "print(image.size())\n",
    "# unsqueeze image to add a batch dimension\n",
    "image = image.unsqueeze(0)\n",
    "print(image.size())"
   ]
  },
  {
   "cell_type": "markdown",
   "metadata": {},
   "source": [
    "## Passing the Input Image Through Each Convolutional Layer"
   ]
  },
  {
   "cell_type": "code",
   "execution_count": 39,
   "metadata": {},
   "outputs": [],
   "source": [
    "# pass the image through the first layers\n",
    "results = [conv_layers[0](image)]\n",
    "for i in range(1, len(conv_layers)):\n",
    "    # pass the results for the last layer to the next layer\n",
    "    results.append(conv_layers[i](results[-1]))\n",
    "\n",
    "outputs = results"
   ]
  },
  {
   "cell_type": "markdown",
   "metadata": {},
   "source": [
    "## Visualizing the Feature Maps"
   ]
  },
  {
   "cell_type": "code",
   "execution_count": 41,
   "metadata": {},
   "outputs": [
    {
     "name": "stdout",
     "output_type": "stream",
     "text": [
      "torch.Size([6, 28, 28])\n",
      "Saving layer 0 feature maps ...\n"
     ]
    },
    {
     "data": {
      "image/png": "[encoded data removed]",
      "text/plain": [
       "<Figure size 1800x1800 with 6 Axes>"
      ]
     },
     "metadata": {
      "needs_background": "light"
     },
     "output_type": "display_data"
    },
    {
     "name": "stdout",
     "output_type": "stream",
     "text": [
      "torch.Size([16, 24, 24])\n",
      "Saving layer 1 feature maps ...\n"
     ]
    },
    {
     "data": {
      "image/png": "[encoded data removed]",
      "text/plain": [
       "<Figure size 1800x1800 with 16 Axes>"
      ]
     },
     "metadata": {
      "needs_background": "light"
     },
     "output_type": "display_data"
    }
   ],
   "source": [
    "for num_layer in range(len(outputs)):\n",
    "    plt.figure(figsize=(25, 25))\n",
    "    # Take the first image of the batch [0, :, :, :]\n",
    "    layer_viz = outputs[num_layer][0, :, :, :]\n",
    "    layer_viz = layer_viz.data\n",
    "    print(layer_viz.size())\n",
    "    \n",
    "    amount = 64\n",
    "    for i, filter in enumerate(layer_viz):\n",
    "        if i == amount:\n",
    "            break\n",
    "        plt.subplot(6, 6, i+1)\n",
    "        plt.imshow(filter, cmap='gray')\n",
    "        plt.axis('off')\n",
    "    print(f'Saving layer {num_layer} feature maps ...')\n",
    "    plt.savefig(f'./outputs/layer_{num_layer}.png')\n",
    "    plt.show()\n",
    "    plt.close()"
   ]
  },
  {
   "cell_type": "code",
   "execution_count": null,
   "metadata": {},
   "outputs": [],
   "source": [
    "# https://www.kaggle.com/arpitjain007/guide-to-visualize-filters-and-feature-maps-in-cnn\n",
    "\n",
    "# dataiter = iter(train_dl)\n",
    "# images, labels = dataiter.next()\n",
    "\n",
    "# image_arr = images.permute(1,2,0)\n",
    "\n",
    "# Get predictions\n",
    "# features = trainer.predict(model, train_dl)\n",
    "\n",
    "# fig = plt.figure(figsize=(20,15))\n",
    "# for i in range(1,features.shape[3]+1):\n",
    "\n",
    "#     plt.subplot(8,8,i)\n",
    "#     plt.imshow(features[0,:,:,i-1] , cmap='gray')\n",
    "    \n",
    "# plt.show()"
   ]
  }
 ],
 "metadata": {
  "interpreter": {
   "hash": "5d433e2eeacfaf9c6777051e9a6e8f217b0a42d6ada65163480106221da8bdb7"
  },
  "kernelspec": {
   "display_name": "Python 3.8.12 64-bit ('base': conda)",
   "language": "python",
   "name": "python3"
  },
  "language_info": {
   "codemirror_mode": {
    "name": "ipython",
    "version": 3
   },
   "file_extension": ".py",
   "mimetype": "text/x-python",
   "name": "python",
   "nbconvert_exporter": "python",
   "pygments_lexer": "ipython3",
   "version": "3.8.12"
  },
  "orig_nbformat": 4
 },
 "nbformat": 4,
 "nbformat_minor": 2
}
