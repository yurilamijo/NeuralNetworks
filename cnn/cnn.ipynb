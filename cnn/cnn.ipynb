{
 "cells": [
  {
   "cell_type": "code",
   "execution_count": 25,
   "metadata": {},
   "outputs": [],
   "source": [
    "import torch\n",
    "import torch.nn as nn\n",
    "import torch.nn.functional as F\n",
    "import torchvision\n",
    "import torchvision.transforms as transforms\n",
    "import matplotlib.pyplot as plt\n",
    "import numpy as np"
   ]
  },
  {
   "cell_type": "code",
   "execution_count": 26,
   "metadata": {},
   "outputs": [],
   "source": [
    "device = torch.device('cuda' if torch.cuda.is_available() else 'cpu')"
   ]
  },
  {
   "cell_type": "markdown",
   "metadata": {},
   "source": [
    "Hyper-parameters"
   ]
  },
  {
   "cell_type": "code",
   "execution_count": 27,
   "metadata": {},
   "outputs": [],
   "source": [
    "n_epochs = 10\n",
    "batch_size = 4\n",
    "learning_rate = 0.001"
   ]
  },
  {
   "cell_type": "code",
   "execution_count": 28,
   "metadata": {},
   "outputs": [],
   "source": [
    "transform = transforms.Compose(\n",
    "    [transforms.ToTensor(),\n",
    "     transforms.Normalize((0.5, 0.5, 0.5), (0.5, 0.5, 0.5))])"
   ]
  },
  {
   "cell_type": "markdown",
   "metadata": {},
   "source": [
    "## Set train and test datasets"
   ]
  },
  {
   "cell_type": "code",
   "execution_count": 29,
   "metadata": {},
   "outputs": [
    {
     "name": "stdout",
     "output_type": "stream",
     "text": [
      "Files already downloaded and verified\n",
      "Files already downloaded and verified\n"
     ]
    }
   ],
   "source": [
    "train_dataset = torchvision.datasets.CIFAR10(\n",
    "    root='./CIFAR10/data',\n",
    "    train=True,\n",
    "    download=True,\n",
    "    transform=transform\n",
    ")\n",
    "\n",
    "test_dataset = torchvision.datasets.CIFAR10(\n",
    "    root='./CIFAR10/data',\n",
    "    train=False,\n",
    "    download=True,\n",
    "    transform=transform\n",
    ")"
   ]
  },
  {
   "cell_type": "markdown",
   "metadata": {},
   "source": [
    "## Dataloaders"
   ]
  },
  {
   "cell_type": "code",
   "execution_count": 30,
   "metadata": {},
   "outputs": [],
   "source": [
    "train_dl = torch.utils.data.DataLoader(train_dataset, batch_size=batch_size, shuffle=True)\n",
    "test_dl = torch.utils.data.DataLoader(test_dataset, batch_size=batch_size, shuffle=False)"
   ]
  },
  {
   "cell_type": "code",
   "execution_count": 31,
   "metadata": {},
   "outputs": [],
   "source": [
    "classes = ('plane', 'car', 'brid', 'cat', 'deer', 'dog', 'frog', 'horse', 'ship', 'truck')"
   ]
  },
  {
   "cell_type": "markdown",
   "metadata": {},
   "source": [
    "## Model"
   ]
  },
  {
   "cell_type": "code",
   "execution_count": 32,
   "metadata": {},
   "outputs": [],
   "source": [
    "# Input size is 3 because we will send 3 types of color channels\n",
    "input_size = 3\n",
    "output_size = 6\n",
    "kernel_size = 5\n",
    "\n",
    "class ConvNet(nn.Module):\n",
    "    def __init__(self):\n",
    "        super(ConvNet, self).__init__()\n",
    "        # Feature learning\n",
    "        self.conv1 = nn.Conv2d(input_size, output_size, kernel_size)\n",
    "        self.pool = nn.MaxPool2d(2, 2)\n",
    "        self.conv2 = nn.Conv2d(output_size, 16, kernel_size)\n",
    "        # Classification\n",
    "        self.fc1 = nn.Linear(16*5*5, 120)\n",
    "        self.fc2 = nn.Linear(120, 84)\n",
    "        self.fc3 = nn.Linear(84, 10)\n",
    "    \n",
    "    def forward(self, x):\n",
    "        x = self.pool(F.relu(self.conv1(x)))\n",
    "        x = self.pool(F.relu(self.conv2(x)))\n",
    "        x = x.reshape(-1, 16*5*5)\n",
    "        x = F.relu(self.fc1(x))\n",
    "        x = F.relu(self.fc2(x))\n",
    "        x = self.fc3(x)\n",
    "        return x\n",
    "\n",
    "\n",
    "model = ConvNet()"
   ]
  },
  {
   "cell_type": "markdown",
   "metadata": {},
   "source": [
    "## Loss function"
   ]
  },
  {
   "cell_type": "code",
   "execution_count": 33,
   "metadata": {},
   "outputs": [],
   "source": [
    "# CrossEntropyLoss Includes the softmax\n",
    "criterion = nn.CrossEntropyLoss()"
   ]
  },
  {
   "cell_type": "markdown",
   "metadata": {},
   "source": [
    "## Optimizer"
   ]
  },
  {
   "cell_type": "code",
   "execution_count": 34,
   "metadata": {},
   "outputs": [],
   "source": [
    "optimzer = torch.optim.SGD(model.parameters(), lr=learning_rate)"
   ]
  },
  {
   "cell_type": "markdown",
   "metadata": {},
   "source": [
    "## Train model"
   ]
  },
  {
   "cell_type": "code",
   "execution_count": 35,
   "metadata": {},
   "outputs": [
    {
     "name": "stdout",
     "output_type": "stream",
     "text": [
      "epoch: 1/10, step: 1000/12500, loss: 2.2503\n",
      "epoch: 1/10, step: 2000/12500, loss: 2.3187\n",
      "epoch: 1/10, step: 3000/12500, loss: 2.3183\n",
      "epoch: 1/10, step: 4000/12500, loss: 2.3092\n",
      "epoch: 1/10, step: 5000/12500, loss: 2.3282\n",
      "epoch: 1/10, step: 6000/12500, loss: 2.2937\n",
      "epoch: 1/10, step: 7000/12500, loss: 2.3032\n",
      "epoch: 1/10, step: 8000/12500, loss: 2.3040\n",
      "epoch: 1/10, step: 9000/12500, loss: 2.3005\n",
      "epoch: 1/10, step: 10000/12500, loss: 2.3101\n",
      "epoch: 1/10, step: 11000/12500, loss: 2.3114\n",
      "epoch: 1/10, step: 12000/12500, loss: 2.1060\n",
      "epoch: 2/10, step: 1000/12500, loss: 2.2292\n",
      "epoch: 2/10, step: 2000/12500, loss: 2.0540\n",
      "epoch: 2/10, step: 3000/12500, loss: 2.2833\n",
      "epoch: 2/10, step: 4000/12500, loss: 2.2092\n",
      "epoch: 2/10, step: 5000/12500, loss: 2.1129\n",
      "epoch: 2/10, step: 6000/12500, loss: 1.5029\n",
      "epoch: 2/10, step: 7000/12500, loss: 1.8678\n",
      "epoch: 2/10, step: 8000/12500, loss: 1.9691\n",
      "epoch: 2/10, step: 9000/12500, loss: 1.6772\n",
      "epoch: 2/10, step: 10000/12500, loss: 2.1661\n",
      "epoch: 2/10, step: 11000/12500, loss: 2.3881\n",
      "epoch: 2/10, step: 12000/12500, loss: 1.5712\n",
      "epoch: 3/10, step: 1000/12500, loss: 1.6851\n",
      "epoch: 3/10, step: 2000/12500, loss: 1.2388\n",
      "epoch: 3/10, step: 3000/12500, loss: 1.4820\n",
      "epoch: 3/10, step: 4000/12500, loss: 1.6128\n",
      "epoch: 3/10, step: 5000/12500, loss: 1.8834\n",
      "epoch: 3/10, step: 6000/12500, loss: 2.5301\n",
      "epoch: 3/10, step: 7000/12500, loss: 2.3592\n",
      "epoch: 3/10, step: 8000/12500, loss: 0.8821\n",
      "epoch: 3/10, step: 9000/12500, loss: 1.2995\n",
      "epoch: 3/10, step: 10000/12500, loss: 1.5573\n",
      "epoch: 3/10, step: 11000/12500, loss: 2.2863\n",
      "epoch: 3/10, step: 12000/12500, loss: 2.1892\n",
      "epoch: 4/10, step: 1000/12500, loss: 1.5858\n",
      "epoch: 4/10, step: 2000/12500, loss: 1.7576\n",
      "epoch: 4/10, step: 3000/12500, loss: 1.3120\n",
      "epoch: 4/10, step: 4000/12500, loss: 1.2299\n",
      "epoch: 4/10, step: 5000/12500, loss: 1.4339\n",
      "epoch: 4/10, step: 6000/12500, loss: 3.1996\n",
      "epoch: 4/10, step: 7000/12500, loss: 0.8713\n",
      "epoch: 4/10, step: 8000/12500, loss: 1.2983\n",
      "epoch: 4/10, step: 9000/12500, loss: 0.8699\n",
      "epoch: 4/10, step: 10000/12500, loss: 0.8040\n",
      "epoch: 4/10, step: 11000/12500, loss: 2.4364\n",
      "epoch: 4/10, step: 12000/12500, loss: 2.3684\n",
      "epoch: 5/10, step: 1000/12500, loss: 1.5672\n",
      "epoch: 5/10, step: 2000/12500, loss: 0.9620\n",
      "epoch: 5/10, step: 3000/12500, loss: 1.4649\n",
      "epoch: 5/10, step: 4000/12500, loss: 1.2951\n",
      "epoch: 5/10, step: 5000/12500, loss: 1.8435\n",
      "epoch: 5/10, step: 6000/12500, loss: 1.8665\n",
      "epoch: 5/10, step: 7000/12500, loss: 1.6318\n",
      "epoch: 5/10, step: 8000/12500, loss: 1.3620\n",
      "epoch: 5/10, step: 9000/12500, loss: 1.2115\n",
      "epoch: 5/10, step: 10000/12500, loss: 1.4495\n",
      "epoch: 5/10, step: 11000/12500, loss: 0.5912\n",
      "epoch: 5/10, step: 12000/12500, loss: 1.2492\n",
      "epoch: 6/10, step: 1000/12500, loss: 0.8127\n",
      "epoch: 6/10, step: 2000/12500, loss: 1.2142\n",
      "epoch: 6/10, step: 3000/12500, loss: 1.0380\n",
      "epoch: 6/10, step: 4000/12500, loss: 1.2517\n",
      "epoch: 6/10, step: 5000/12500, loss: 1.2114\n",
      "epoch: 6/10, step: 6000/12500, loss: 1.5790\n",
      "epoch: 6/10, step: 7000/12500, loss: 1.9296\n",
      "epoch: 6/10, step: 8000/12500, loss: 1.3359\n",
      "epoch: 6/10, step: 9000/12500, loss: 0.6198\n",
      "epoch: 6/10, step: 10000/12500, loss: 2.0320\n",
      "epoch: 6/10, step: 11000/12500, loss: 0.7834\n",
      "epoch: 6/10, step: 12000/12500, loss: 1.0480\n",
      "epoch: 7/10, step: 1000/12500, loss: 0.8169\n",
      "epoch: 7/10, step: 2000/12500, loss: 1.3548\n",
      "epoch: 7/10, step: 3000/12500, loss: 1.0478\n",
      "epoch: 7/10, step: 4000/12500, loss: 1.4805\n",
      "epoch: 7/10, step: 5000/12500, loss: 0.9572\n",
      "epoch: 7/10, step: 6000/12500, loss: 0.8160\n",
      "epoch: 7/10, step: 7000/12500, loss: 1.1232\n",
      "epoch: 7/10, step: 8000/12500, loss: 2.4435\n",
      "epoch: 7/10, step: 9000/12500, loss: 2.8006\n",
      "epoch: 7/10, step: 10000/12500, loss: 0.7361\n",
      "epoch: 7/10, step: 11000/12500, loss: 2.4639\n",
      "epoch: 7/10, step: 12000/12500, loss: 1.0647\n",
      "epoch: 8/10, step: 1000/12500, loss: 1.6475\n",
      "epoch: 8/10, step: 2000/12500, loss: 0.5851\n",
      "epoch: 8/10, step: 3000/12500, loss: 0.6308\n",
      "epoch: 8/10, step: 4000/12500, loss: 2.3723\n",
      "epoch: 8/10, step: 5000/12500, loss: 2.6933\n",
      "epoch: 8/10, step: 6000/12500, loss: 1.7170\n",
      "epoch: 8/10, step: 7000/12500, loss: 1.4531\n",
      "epoch: 8/10, step: 8000/12500, loss: 0.4983\n",
      "epoch: 8/10, step: 9000/12500, loss: 1.6179\n",
      "epoch: 8/10, step: 10000/12500, loss: 1.3590\n",
      "epoch: 8/10, step: 11000/12500, loss: 1.0754\n",
      "epoch: 8/10, step: 12000/12500, loss: 2.0764\n",
      "epoch: 9/10, step: 1000/12500, loss: 1.0660\n",
      "epoch: 9/10, step: 2000/12500, loss: 1.0336\n",
      "epoch: 9/10, step: 3000/12500, loss: 0.2718\n",
      "epoch: 9/10, step: 4000/12500, loss: 1.0171\n",
      "epoch: 9/10, step: 5000/12500, loss: 1.5733\n",
      "epoch: 9/10, step: 6000/12500, loss: 1.1191\n",
      "epoch: 9/10, step: 7000/12500, loss: 0.8993\n",
      "epoch: 9/10, step: 8000/12500, loss: 0.7538\n",
      "epoch: 9/10, step: 9000/12500, loss: 1.6035\n",
      "epoch: 9/10, step: 10000/12500, loss: 0.4424\n",
      "epoch: 9/10, step: 11000/12500, loss: 2.7432\n",
      "epoch: 9/10, step: 12000/12500, loss: 0.7063\n",
      "epoch: 10/10, step: 1000/12500, loss: 0.6823\n",
      "epoch: 10/10, step: 2000/12500, loss: 1.1077\n",
      "epoch: 10/10, step: 3000/12500, loss: 1.6819\n",
      "epoch: 10/10, step: 4000/12500, loss: 0.6538\n",
      "epoch: 10/10, step: 5000/12500, loss: 0.9430\n",
      "epoch: 10/10, step: 6000/12500, loss: 0.4906\n",
      "epoch: 10/10, step: 7000/12500, loss: 1.4085\n",
      "epoch: 10/10, step: 8000/12500, loss: 1.3127\n",
      "epoch: 10/10, step: 9000/12500, loss: 0.5032\n",
      "epoch: 10/10, step: 10000/12500, loss: 1.2065\n",
      "epoch: 10/10, step: 11000/12500, loss: 0.3596\n",
      "epoch: 10/10, step: 12000/12500, loss: 0.9198\n"
     ]
    }
   ],
   "source": [
    "n_total_steps = len(train_dl)\n",
    "\n",
    "for epoch in range(n_epochs):\n",
    "    for i, (images, labels) in enumerate(train_dl):\n",
    "        # Forward\n",
    "        output = model(images)\n",
    "\n",
    "        # Loss\n",
    "        loss = criterion(output, labels)\n",
    "\n",
    "        # Backward\n",
    "        optimzer.zero_grad()\n",
    "        loss.backward()\n",
    "        # Update the parameters\n",
    "        optimzer.step()\n",
    "\n",
    "        if (i+1) % 1000 == 0:\n",
    "            print(f\"epoch: {epoch+1}/{n_epochs}, step: {i+1}/{n_total_steps}, loss: {loss.item():.4f}\")"
   ]
  },
  {
   "cell_type": "markdown",
   "metadata": {},
   "source": [
    "## Validate model"
   ]
  },
  {
   "cell_type": "code",
   "execution_count": 36,
   "metadata": {},
   "outputs": [
    {
     "name": "stdout",
     "output_type": "stream",
     "text": [
      "Accuracy of CNN: 57.82\n",
      "Accuracy of plane: 59.4\n",
      "Accuracy of car: 69.6\n",
      "Accuracy of brid: 41.4\n",
      "Accuracy of cat: 42.9\n",
      "Accuracy of deer: 35.0\n",
      "Accuracy of dog: 59.0\n",
      "Accuracy of frog: 76.8\n",
      "Accuracy of horse: 57.7\n",
      "Accuracy of ship: 73.8\n",
      "Accuracy of truck: 62.6\n"
     ]
    }
   ],
   "source": [
    "with torch.no_grad():\n",
    "    n_correct = 0\n",
    "    n_samples = 0\n",
    "    n_class_correct = [0 for i in range(10)]\n",
    "    n_class_samples = [0 for i in range(10)]\n",
    "\n",
    "    for images, labels in test_dl:\n",
    "        output = model(images)\n",
    "\n",
    "        # Return value and index \n",
    "        _, predictions = torch.max(output, 1)\n",
    "\n",
    "        n_samples += labels.shape[0]\n",
    "        n_correct += (predictions == labels).sum().item()\n",
    "\n",
    "        for i in range(batch_size):\n",
    "            label = labels[i]\n",
    "            pred = predictions[i]\n",
    "            if label == pred:\n",
    "                n_class_correct[label] += 1\n",
    "            n_class_samples[label] += 1\n",
    "    \n",
    "    acc = 100 * n_correct / n_samples\n",
    "    print(f\"Accuracy of CNN: {acc}\")\n",
    "\n",
    "    for i in range(10):\n",
    "        acc = 100 * n_class_correct[i] / n_class_samples[i]\n",
    "        print(f\"Accuracy of {classes[i]}: {acc}\")\n",
    "\n",
    "\n"
   ]
  }
 ],
 "metadata": {
  "interpreter": {
   "hash": "5d433e2eeacfaf9c6777051e9a6e8f217b0a42d6ada65163480106221da8bdb7"
  },
  "kernelspec": {
   "display_name": "Python 3.8.12 64-bit ('base': conda)",
   "language": "python",
   "name": "python3"
  },
  "language_info": {
   "codemirror_mode": {
    "name": "ipython",
    "version": 3
   },
   "file_extension": ".py",
   "mimetype": "text/x-python",
   "name": "python",
   "nbconvert_exporter": "python",
   "pygments_lexer": "ipython3",
   "version": "3.8.12"
  },
  "orig_nbformat": 4
 },
 "nbformat": 4,
 "nbformat_minor": 2
}
